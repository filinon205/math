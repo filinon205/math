{
 "cells": [
  {
   "cell_type": "markdown",
   "metadata": {},
   "source": [
    "### Урок 3. Описательная статистика. Качественные и количественные характеристики популяции. Графическое представление данных\n"
   ]
  },
  {
   "cell_type": "markdown",
   "metadata": {},
   "source": [
    "1. Даны значения зарплат из выборки выпускников: 100, 80, 75, 77, 89, 33, 45, 25, 65, 17, 30, 24, 57, 55, 70, 75, 65, 84, 90, 150. Посчитать (желательно без использования статистических методов наподобие std, var, mean) среднее арифметическое, среднее квадратичное отклонение, смещенную и несмещенную оценки дисперсий для данной выборки.\n"
   ]
  },
  {
   "cell_type": "code",
   "execution_count": 27,
   "metadata": {},
   "outputs": [],
   "source": [
    "import pandas as pd\n",
    "import numpy as np"
   ]
  },
  {
   "cell_type": "code",
   "execution_count": 3,
   "metadata": {},
   "outputs": [
    {
     "data": {
      "text/plain": [
       "(20, 1)"
      ]
     },
     "execution_count": 3,
     "metadata": {},
     "output_type": "execute_result"
    }
   ],
   "source": [
    "a = {\"salary\":[100, 80, 75, 77, 89, 33, 45, 25, 65, 17, 30, 24, 57, 55, 70, 75, 65, 84, 90, 150]}\n",
    "df = pd.DataFrame(a)\n",
    "df.shape"
   ]
  },
  {
   "cell_type": "code",
   "execution_count": 18,
   "metadata": {},
   "outputs": [
    {
     "data": {
      "text/plain": [
       "65.3"
      ]
     },
     "execution_count": 18,
     "metadata": {},
     "output_type": "execute_result"
    }
   ],
   "source": [
    "# Средняя арифметическая\n",
    "df['salary'].mean() # 1 вариант\n",
    "df['salary'].sum() / df['salary'].count() # 2 вариант"
   ]
  },
  {
   "cell_type": "code",
   "execution_count": 29,
   "metadata": {},
   "outputs": [
    {
     "data": {
      "text/plain": [
       "30.823854398825596"
      ]
     },
     "execution_count": 29,
     "metadata": {},
     "output_type": "execute_result"
    }
   ],
   "source": [
    "# Средняя квадратичное отклонение\n",
    "avg = df['salary'].mean()\n",
    "s = np.sqrt(((df['salary'] - avg)** 2).sum() / df['salary'].count())\n",
    "s\n",
    "                                                                                "
   ]
  },
  {
   "cell_type": "code",
   "execution_count": 32,
   "metadata": {},
   "outputs": [
    {
     "data": {
      "text/plain": [
       "950.11"
      ]
     },
     "execution_count": 32,
     "metadata": {},
     "output_type": "execute_result"
    }
   ],
   "source": [
    "# смещенная дисперсия\n",
    "avg = df['salary'].mean()\n",
    "disp = ((df['salary'] - avg)** 2).sum() / df['salary'].count()\n",
    "disp"
   ]
  },
  {
   "cell_type": "code",
   "execution_count": 34,
   "metadata": {},
   "outputs": [
    {
     "data": {
      "text/plain": [
       "1000.1157894736842"
      ]
     },
     "execution_count": 34,
     "metadata": {},
     "output_type": "execute_result"
    }
   ],
   "source": [
    "# несмещенная дисперсия\n",
    "avg = df['salary'].mean()\n",
    "disp = ((df['salary'] - avg)** 2).sum() / (df['salary'].count() - 1)\n",
    "disp"
   ]
  },
  {
   "cell_type": "markdown",
   "metadata": {},
   "source": [
    "2. В первом ящике находится 8 мячей, из которых 5 - белые. Во втором ящике - 12 мячей, из которых 5 белых. Из первого ящика вытаскивают случайным образом два мяча, из второго - 4. Какова вероятность того, что 3 мяча белые?\n"
   ]
  },
  {
   "cell_type": "code",
   "execution_count": 53,
   "metadata": {},
   "outputs": [
    {
     "name": "stdout",
     "output_type": "stream",
     "text": [
      "Из первого ящика вынули 1 белый  = 0.54\n",
      "Из второго ящика вынули 2 белых  = 0.42\n",
      "Из первого ящика вынули 2 белых  = 0.36\n",
      "Из второго ящика вынули 1 белый  = 0.35\n",
      "Из первого ящика вынули 0 белых  = 0.11\n",
      "Из второго ящика вынули 3 белых  = 0.14\n",
      "вероятность того, что 3 мяча белые = 0.3682\n"
     ]
    }
   ],
   "source": [
    "from math import factorial\n",
    "#Из первого ящика вынули 1 белый из второго 2 белых\n",
    "a1 = round((factorial(5) / (factorial(1)*factorial(5-1))) * (factorial(3)/(factorial(1)*factorial(3-1))) / (factorial(8) / (factorial(2)*factorial(8-2))),2) \n",
    "print(f'Из первого ящика вынули 1 белый  = {a1}')\n",
    "# Из второго ящика вынули 2 белых\n",
    "a2 = round((factorial(5) / (factorial(2)*factorial(5-2))) * (factorial(7)/(factorial(2)*factorial(7-2))) / (factorial(12) / (factorial(4)*factorial(12-4))),2)\n",
    "print(f'Из второго ящика вынули 2 белых  = {a2}')\n",
    "#Из первого ящика вынули 2 белых из второго 1 белый\n",
    "a3 = round((factorial(5) / (factorial(2)*factorial(5-2)))* (factorial(3)/(factorial(0)*factorial(3-0))) / (factorial(8) / (factorial(2)*factorial(8-2))),2)\n",
    "print(f'Из первого ящика вынули 2 белых  = {a3}')\n",
    "# Из второго ящика вынули 1 белый\n",
    "a4 = round((factorial(5) / (factorial(1)*factorial(5-1)))* (factorial(7)/(factorial(3)*factorial(7-3))) / (factorial(12) / (factorial(4)*factorial(12-4))),2)\n",
    "print(f'Из второго ящика вынули 1 белый  = {a4}')\n",
    "#Из первого ящика вынули 0 белых из второго 3 белых\n",
    "a5 = round((factorial(5) / (factorial(0)*factorial(5-0))) * (factorial(3)/(factorial(2)*factorial(3-2))) / (factorial(8) / (factorial(2)*factorial(8-2))),2)\n",
    "print(f'Из первого ящика вынули 0 белых  = {a5}')\n",
    "# Из второго ящика вынули 3 белых\n",
    "a6 = round((factorial(5) / (factorial(3)*factorial(5-3))) * (factorial(7)/(factorial(1)*factorial(7-1))) / (factorial(12) / (factorial(4)*factorial(12-4))),2)\n",
    "print(f'Из второго ящика вынули 3 белых  = {a6}')\n",
    "\n",
    "#вероятность того, что 3 мяча белые\n",
    "P = a1*a2+a3*a4+a5*a6\n",
    "print(f'вероятность того, что 3 мяча белые = {P}')\n"
   ]
  },
  {
   "cell_type": "markdown",
   "metadata": {},
   "source": [
    "3. На соревновании по биатлону один из трех спортсменов стреляет и попадает в мишень. Вероятность попадания для первого спортсмена равна 0.9, для второго — 0.8, для третьего — 0.6. Найти вероятность того, что выстрел произведен: a). первым спортсменом б). вторым спортсменом в). третьим спортсменом.\n"
   ]
  },
  {
   "cell_type": "code",
   "execution_count": 56,
   "metadata": {},
   "outputs": [
    {
     "name": "stdout",
     "output_type": "stream",
     "text": [
      "Выстрел произведен первым спортсменом = 0.39\n",
      "Выстрел произведен первым спортсменом = 0.35\n",
      "Выстрел произведен первым спортсменом = 0.26\n"
     ]
    }
   ],
   "source": [
    "# Выстрел первым спортсменом, вторым, третьим\n",
    "B1 = 1/3\n",
    "B2 = 1/3\n",
    "B3 = 1/3\n",
    "\n",
    "p1 = 0.9\n",
    "p2 = 0.8\n",
    "p3 = 0.6\n",
    "# Общая вероятность\n",
    "P_A = B1 * p1 + B2 * p2 + B3 * p3\n",
    "# Выстрел произведен первым спортсменом\n",
    "P_B1 = round(B1 * p1 / P_A,2)\n",
    "print(f'Выстрел произведен первым спортсменом = {P_B1}')\n",
    "# Выстрел произведен вторым спортсменом\n",
    "P_B2 = round(B2 * p2 / P_A,2)\n",
    "print(f'Выстрел произведен первым спортсменом = {P_B2}')\n",
    "# Выстрел произведен третьим спортсменом\n",
    "P_B3 = round(B3 * p3 / P_A,2)\n",
    "print(f'Выстрел произведен первым спортсменом = {P_B3}')"
   ]
  },
  {
   "cell_type": "markdown",
   "metadata": {},
   "source": [
    "4. В университет на факультеты A и B поступило равное количество студентов, а на факультет C студентов поступило столько же, сколько на A и B вместе. Вероятность того, что студент факультета A сдаст первую сессию, равна 0.8. Для студента факультета B эта вероятность равна 0.7, а для студента факультета C - 0.9. Студент сдал первую сессию. Какова вероятность, что он учится: a). на факультете A б). на факультете B в). на факультете C?"
   ]
  },
  {
   "cell_type": "code",
   "execution_count": 62,
   "metadata": {},
   "outputs": [
    {
     "data": {
      "text/plain": [
       "0.825"
      ]
     },
     "execution_count": 62,
     "metadata": {},
     "output_type": "execute_result"
    }
   ],
   "source": [
    "#А - Студент сдал первую сессию\n",
    "A = 1 / 4 * 0.8 + 1 / 4 * 0.7 + 2 / 4 * 0.9\n",
    "A"
   ]
  },
  {
   "cell_type": "code",
   "execution_count": 68,
   "metadata": {},
   "outputs": [
    {
     "name": "stdout",
     "output_type": "stream",
     "text": [
      "Вероятность, что студент с факультета A = 0.24\n"
     ]
    }
   ],
   "source": [
    "#А1 - студент с факультета А\n",
    "PA1 = round(1 / 4 * 0.8 / A,2)\n",
    "print(f'Вероятность, что студент с факультета A = {PA1}')"
   ]
  },
  {
   "cell_type": "code",
   "execution_count": 69,
   "metadata": {},
   "outputs": [
    {
     "name": "stdout",
     "output_type": "stream",
     "text": [
      "Вероятность, что студент с факультета B = 0.21\n"
     ]
    }
   ],
   "source": [
    "#А2 - студент с факультета В\n",
    "PA2 = round(1 / 4 * 0.7 / A,2)\n",
    "print(f'Вероятность, что студент с факультета B = {PA2}')"
   ]
  },
  {
   "cell_type": "code",
   "execution_count": 70,
   "metadata": {},
   "outputs": [
    {
     "name": "stdout",
     "output_type": "stream",
     "text": [
      "Вероятность, что студент с факультета С = 0.55\n"
     ]
    }
   ],
   "source": [
    "#А3 - студент с факультета С\n",
    "PA3 = round(2 / 4 * 0.9 / A,2)\n",
    "print(f'Вероятность, что студент с факультета С = {PA3}')"
   ]
  },
  {
   "cell_type": "markdown",
   "metadata": {},
   "source": [
    "5. Устройство состоит из трех деталей. Для первой детали вероятность выйти из строя в первый месяц равна 0.1, для второй - 0.2, для третьей - 0.25. Какова вероятность того, что в первый месяц выйдут из строя: а). все детали б). только две детали в). хотя бы одна деталь г). от одной до двух деталей?\n",
    "\n"
   ]
  },
  {
   "cell_type": "code",
   "execution_count": 73,
   "metadata": {},
   "outputs": [
    {
     "data": {
      "text/plain": [
       "0.005"
      ]
     },
     "execution_count": 73,
     "metadata": {},
     "output_type": "execute_result"
    }
   ],
   "source": [
    "#А - из строя вышли все детали\n",
    "A = round(0.1 * 0.2 * 0.25,3)\n",
    "A"
   ]
  },
  {
   "cell_type": "code",
   "execution_count": 77,
   "metadata": {},
   "outputs": [
    {
     "name": "stdout",
     "output_type": "stream",
     "text": [
      "Вероятность, что из строя вышло только две детали = 0.08000000000000002\n"
     ]
    }
   ],
   "source": [
    "#A1 - из строя вышли первая и вторая деталь, но не вышла третья\n",
    "#A2 - из строя вышла первая и третья деталь, но не вышла вторая\n",
    "#A3 - из строя вышла вторая и третья деталь, но не вышла первая\n",
    "PA = 0.1 * 0.2 * 0.75 + 0.1 * 0.8 * 0.25 + 0.9 * 0.2 * 0.25\n",
    "PA\n",
    "print(f'Вероятность, что из строя вышло только две детали = {PA}')\n"
   ]
  },
  {
   "cell_type": "code",
   "execution_count": 81,
   "metadata": {},
   "outputs": [
    {
     "name": "stdout",
     "output_type": "stream",
     "text": [
      "Вероятность, что из строя вышла хотя бы одна деталь = 0.45999999999999996\n"
     ]
    }
   ],
   "source": [
    "PA2 = 1 - 0.9 * 0.8 * 0.75\n",
    "PA2\n",
    "print(f'Вероятность, что из строя вышла хотя бы одна деталь = {PA2}')\n"
   ]
  },
  {
   "cell_type": "code",
   "execution_count": 82,
   "metadata": {},
   "outputs": [
    {
     "data": {
      "text/plain": [
       "0.08"
      ]
     },
     "execution_count": 82,
     "metadata": {},
     "output_type": "execute_result"
    }
   ],
   "source": [
    "#A1 - из строя вышла первая деталь\n",
    "#A2 - из строя вышла вторая деталь\n",
    "#A3 - из строя вышла третья деталь\n",
    "#A0 - из строя вышла одна деталь\n",
    "\n",
    "#P_A = PA + PD - из строя вышло от одной до двух деталей\n",
    "\n",
    "PD = 0.9 * 0.2 * 0.25 + 0.1 * 0.8 * 0.25 + 0.1 * 0.2 * 0.75\n",
    "PD"
   ]
  },
  {
   "cell_type": "code",
   "execution_count": 83,
   "metadata": {},
   "outputs": [
    {
     "name": "stdout",
     "output_type": "stream",
     "text": [
      "Вероятность, что из строя вышло от одной до двух деталей = 0.16000000000000003\n"
     ]
    }
   ],
   "source": [
    "P_A = PA + PD\n",
    "print(f'Вероятность, что из строя вышло от одной до двух деталей = {P_A}')"
   ]
  },
  {
   "cell_type": "code",
   "execution_count": null,
   "metadata": {},
   "outputs": [],
   "source": []
  }
 ],
 "metadata": {
  "kernelspec": {
   "display_name": "Python 3",
   "language": "python",
   "name": "python3"
  },
  "language_info": {
   "codemirror_mode": {
    "name": "ipython",
    "version": 3
   },
   "file_extension": ".py",
   "mimetype": "text/x-python",
   "name": "python",
   "nbconvert_exporter": "python",
   "pygments_lexer": "ipython3",
   "version": "3.8.3"
  }
 },
 "nbformat": 4,
 "nbformat_minor": 4
}
