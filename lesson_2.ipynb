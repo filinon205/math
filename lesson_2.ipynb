{
 "cells": [
  {
   "cell_type": "markdown",
   "metadata": {},
   "source": [
    "### Урок 2. Дискретные случайные величины. Закон распределения вероятностей. Биномиальный закон распределения. Распределение Пуассона\n"
   ]
  },
  {
   "cell_type": "markdown",
   "metadata": {},
   "source": [
    "Вероятность того, что стрелок попадет в мишень, выстрелив один раз, равна 0.8. Стрелок выстрелил 100 раз. Найдите вероятность того, что стрелок попадет в цель ровно 85 раз.\n"
   ]
  },
  {
   "cell_type": "code",
   "execution_count": 8,
   "metadata": {},
   "outputs": [
    {
     "name": "stdout",
     "output_type": "stream",
     "text": [
      "Вероятность того, что стрелок попадет в цель 85 раз = 0.0481\n"
     ]
    }
   ],
   "source": [
    "# Высокая вероятность в рамках одного испытания\n",
    "# Маленькое количество испытаний\n",
    "# Дискретная величина\n",
    "#  = Биномиальное распределение\n",
    "\n",
    "from math import factorial\n",
    "k = 85\n",
    "n = 100\n",
    "p = 0.8\n",
    "q = 0.2\n",
    "\n",
    "X = round(factorial(n)/(factorial(k)*factorial(n-k)) * p**k * q**(n-k),4)\n",
    "print(f'Вероятность того, что стрелок попадет в цель 85 раз = {X}')"
   ]
  },
  {
   "cell_type": "markdown",
   "metadata": {},
   "source": [
    "Вероятность того, что лампочка перегорит в течение первого дня эксплуатации, равна 0.0004. В жилом комплексе после ремонта в один день включили 5000 новых лампочек. Какова вероятность, что ни одна из них не перегорит в первый день? Какова вероятность, что перегорят ровно две?\n"
   ]
  },
  {
   "cell_type": "code",
   "execution_count": 28,
   "metadata": {},
   "outputs": [
    {
     "name": "stdout",
     "output_type": "stream",
     "text": [
      "Вероятность что в первый день не перегорит ни одна лампочка = 0.14\n",
      "Вероятность что в первый день перегорит две лампочки = 0.27\n"
     ]
    }
   ],
   "source": [
    "# Низкая вероятность в конкретном испытании\n",
    "# Большое количество испытаний\n",
    "# Дискретная величина\n",
    "#  = Распределение Пуасссона\n",
    "\n",
    "gipoteza_1 = 0\n",
    "gipoteza_2 = 2\n",
    "\n",
    "p = 0.0004\n",
    "n = 5000\n",
    "lambda_ = p * n \n",
    "e = 2.72\n",
    "P1 =  round(lambda_**gipoteza_1/factorial(gipoteza_1) * e**-lambda_,2)\n",
    "P2 =  round(lambda_**gipoteza_2/factorial(gipoteza_2) * e**-lambda_,2)\n",
    "print(f'Вероятность что в первый день не перегорит ни одна лампочка = {P1}')\n",
    "print(f'Вероятность что в первый день перегорит две лампочки = {P2}')"
   ]
  },
  {
   "cell_type": "markdown",
   "metadata": {},
   "source": [
    "Монету подбросили 144 раза. Какова вероятность, что орел выпадет ровно 70 раз?\n"
   ]
  },
  {
   "cell_type": "code",
   "execution_count": 29,
   "metadata": {},
   "outputs": [
    {
     "name": "stdout",
     "output_type": "stream",
     "text": [
      "Вероятность того, что орел выпадет 70 раз = 0.0628\n"
     ]
    }
   ],
   "source": [
    "# Высокая вероятность в рамках одного испытания\n",
    "# Маленькое количество испытаний\n",
    "# Дискретная величина\n",
    "#  = Биномиальное распределение\n",
    "k = 70\n",
    "n = 144\n",
    "p = 0.5\n",
    "q = 0.5\n",
    "\n",
    "X = round(factorial(n)/(factorial(k)*factorial(n-k)) * p**k * q**(n-k),4)\n",
    "print(f'Вероятность того, что орел выпадет 70 раз = {X}')"
   ]
  },
  {
   "cell_type": "markdown",
   "metadata": {},
   "source": [
    "В первом ящике находится 10 мячей, из которых 7 - белые. Во втором ящике - 11 мячей, из которых 9 белых. Из каждого ящика вытаскивают случайным образом по два мяча. Какова вероятность того, что все мячи белые? Какова вероятность того, что ровно два мяча белые? Какова вероятность того, что хотя бы один мяч белый?\n"
   ]
  },
  {
   "cell_type": "code",
   "execution_count": 16,
   "metadata": {},
   "outputs": [
    {
     "name": "stdout",
     "output_type": "stream",
     "text": [
      "Все мячи белые первая корзина:0.47\n",
      "Все мячи белые первая корзина:0.65\n",
      "Все мячи белые:0.31\n"
     ]
    }
   ],
   "source": [
    "box1 = 0.5\n",
    "box2 = 0.5\n",
    "belie_box1 = 7\n",
    "belie_box2 = 9\n",
    "black_box1 = 3\n",
    "black_box2 = 2\n",
    "\n",
    "all_balls_box1 = 10\n",
    "all_balls_box2 = 11\n",
    "\n",
    "#Все мячи белые первая корзина\n",
    "P_A1 = round((factorial(belie_box1) / (factorial(2)*factorial(belie_box1-2))) / (factorial(all_balls_box1) / (factorial(2)*factorial(all_balls_box1-2))),2)\n",
    "\n",
    "print(f\"Все мячи белые первая корзина:{P_A1}\")\n",
    "\n",
    "#Все мячи белые вторая корзина\n",
    "P_A2 =  round((factorial(belie_box2) / (factorial(2)*factorial(belie_box2-2))) / (\n",
    "    factorial(all_balls_box2) / (factorial(2)*factorial(all_balls_box2-2))),2)\n",
    "\n",
    "print(f\"Все мячи белые первая корзина:{P_A2}\")\n",
    "#Все мячи белые\n",
    "P_A = round(P_A1 * P_A2,2)\n",
    "print(f\"Все мячи белые:{P_A}\")\n"
   ]
  },
  {
   "cell_type": "code",
   "execution_count": 39,
   "metadata": {},
   "outputs": [
    {
     "name": "stdout",
     "output_type": "stream",
     "text": [
      "Два белых первый ящик = 0.47\n",
      "Два черных второй ящик = 0.02\n",
      "Два белых второй ящик = 0.65\n",
      "Два черных первый ящик = 0.07\n",
      "Один белый первый ящик = 0.7\n",
      "Один белый второй ящик = 0.82\n",
      "Вероятность что оба мяча белые = 0.63\n"
     ]
    }
   ],
   "source": [
    "# Два белых мяча из первого ящика\n",
    "two_white_first_box = round((factorial(belie_box1) / (factorial(2)*factorial(belie_box1-2))) / (factorial(all_balls_box1) / (factorial(2)*factorial(all_balls_box1-2))),2)\n",
    "two_black_second_box = round((factorial(black_box2) / (factorial(2)*factorial(black_box2-2))) / (factorial(all_balls_box2) / (factorial(2)*factorial(all_balls_box2-2))),2)                                                                                \n",
    "two_white_second_box = round((factorial(belie_box2) / (factorial(2)*factorial(belie_box2-2)))  / (factorial(all_balls_box2) / (factorial(2)*factorial(all_balls_box2-2))),2)\n",
    "two_black_first_box = round((factorial(black_box1) / (factorial(2)*factorial(black_box1-2))) / (factorial(all_balls_box1) / (factorial(2)*factorial(all_balls_box1-2))),2)\n",
    "one_white_first = round((factorial(belie_box1) / (factorial(1)*factorial(belie_box1-1))) / (factorial(all_balls_box1) / (factorial(1)*factorial(all_balls_box1-1))),2)\n",
    "one_white_second = round((factorial(belie_box2) / (factorial(1)*factorial(belie_box2-1)))  / (factorial(all_balls_box2) / (factorial(1)*factorial(all_balls_box2-1))),2)\n",
    "\n",
    "print(f'Два белых первый ящик = {two_white_first_box}')\n",
    "print(f'Два черных второй ящик = {two_black_second_box}')\n",
    "print(f'Два белых второй ящик = {two_white_second_box}')\n",
    "print(f'Два черных первый ящик = {two_black_first_box}')\n",
    "print(f'Один белый первый ящик = {one_white_first}')\n",
    "print(f'Один белый второй ящик = {one_white_second}')\n",
    "#Вероятность что оба мяча белые\n",
    "P = round(two_white_first_box * two_black_second_box + two_white_second_box * two_black_first_box + one_white_first * one_white_second,2)   \n",
    "print(f'Вероятность что оба мяча белые = {P}')"
   ]
  },
  {
   "cell_type": "code",
   "execution_count": 40,
   "metadata": {},
   "outputs": [
    {
     "name": "stdout",
     "output_type": "stream",
     "text": [
      "Вероятность что хотя бы один белый = 0.9986\n"
     ]
    }
   ],
   "source": [
    "#Вероятность что хотя бы один белый\n",
    "\n",
    "black_in_one = round((factorial(black_box1) / (factorial(2)*factorial(black_box1-2))) / (factorial(all_balls_box1) / (factorial(2)*factorial(all_balls_box1-2))),2)\n",
    "black_in_two = round((factorial(black_box2) / (factorial(2)*factorial(black_box2-2))) / (factorial(all_balls_box2) / (factorial(2)*factorial(all_balls_box2-2))),2)\n",
    "P2 = 1 - (black_in_one * black_in_two)\n",
    "print(f'Вероятность что хотя бы один белый = {P2}')"
   ]
  },
  {
   "cell_type": "code",
   "execution_count": null,
   "metadata": {},
   "outputs": [],
   "source": []
  }
 ],
 "metadata": {
  "kernelspec": {
   "display_name": "Python 3",
   "language": "python",
   "name": "python3"
  },
  "language_info": {
   "codemirror_mode": {
    "name": "ipython",
    "version": 3
   },
   "file_extension": ".py",
   "mimetype": "text/x-python",
   "name": "python",
   "nbconvert_exporter": "python",
   "pygments_lexer": "ipython3",
   "version": "3.8.3"
  }
 },
 "nbformat": 4,
 "nbformat_minor": 4
}
