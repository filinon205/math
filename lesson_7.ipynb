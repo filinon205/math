{
 "cells": [
  {
   "cell_type": "markdown",
   "metadata": {},
   "source": [
    "### Урок 7. Многомерный статистический анализ. Линейная регрессия"
   ]
  },
  {
   "cell_type": "markdown",
   "metadata": {},
   "source": [
    "1. Даны значения величины заработной платы заемщиков банка (zp) и значения их поведенческого кредитного скоринга (ks): zp = [35, 45, 190, 200, 40, 70, 54, 150, 120, 110], ks = [401, 574, 874, 919, 459, 739, 653, 902, 746, 832]. Используя математические операции, посчитать коэффициенты линейной регрессии, приняв за X заработную плату (то есть, zp - признак), а за y - значения скорингового балла (то есть, ks - целевая переменная). Произвести расчет как с использованием intercept, так и без."
   ]
  },
  {
   "cell_type": "code",
   "execution_count": 12,
   "metadata": {},
   "outputs": [],
   "source": [
    "import numpy as np\n",
    "from matplotlib import pyplot as plt\n",
    "%matplotlib inline"
   ]
  },
  {
   "cell_type": "code",
   "execution_count": 17,
   "metadata": {},
   "outputs": [
    {
     "name": "stdout",
     "output_type": "stream",
     "text": [
      "2.620538882402765\n",
      "444.1773573243596\n",
      "[535.89621821 562.10160703 942.07974498 968.2851338  548.99891262\n",
      " 627.61507909 585.68645697 837.25818968 758.64202321 732.43663439]\n"
     ]
    }
   ],
   "source": [
    "zp_x = np.array([35, 45, 190, 200, 40, 70, 54, 150, 120, 110])\n",
    "ks_y = np.array([401, 574, 874, 919, 459, 739, 653, 902, 746, 832])\n",
    "num = 8\n",
    "b = (np.mean(zp_x * ks_y) - np.mean(zp_x) * np.mean(ks_y)) / (np.mean(zp_x**2)-np.mean(zp_x)**2)\n",
    "print(f'{b}')\n",
    "a = np.mean(ks_y) - b * np.mean(zp_x)\n",
    "print(f'{a}')\n",
    "y = a + b * zp_x\n",
    "print(f'{y}')"
   ]
  },
  {
   "cell_type": "code",
   "execution_count": 31,
   "metadata": {},
   "outputs": [
    {
     "data": {
      "image/png": "[encoded data removed]",
      "text/plain": [
       "<Figure size 432x288 with 1 Axes>"
      ]
     },
     "metadata": {
      "needs_background": "light"
     },
     "output_type": "display_data"
    }
   ],
   "source": [
    "plt.scatter(zp_x, ks_y)\n",
    "plt.plot(zp_x, y)\n",
    "plt.show()"
   ]
  },
  {
   "cell_type": "code",
   "execution_count": 30,
   "metadata": {},
   "outputs": [
    {
     "name": "stdout",
     "output_type": "stream",
     "text": [
      "451.40219202040714\n",
      "265.7226426756403\n"
     ]
    },
    {
     "data": {
      "text/plain": [
       "65.2875936982184"
      ]
     },
     "execution_count": 30,
     "metadata": {},
     "output_type": "execute_result"
    }
   ],
   "source": [
    "from sklearn.metrics import mean_squared_error\n",
    "rmse = mean_squared_error(ks_y, y, squared=False)\n",
    "print(rmse)\n",
    "mean_y = np.mean(y)\n",
    "print(mean_y)\n",
    "\n",
    "A_mean = 100 * np.mean(np.abs((ks_y - y ) / ks_y))\n",
    "A_mean"
   ]
  },
  {
   "cell_type": "markdown",
   "metadata": {},
   "source": [
    "вариант 2"
   ]
  },
  {
   "cell_type": "code",
   "execution_count": 26,
   "metadata": {},
   "outputs": [
    {
     "name": "stdout",
     "output_type": "stream",
     "text": [
      "2.620538882402765\n",
      "[ 91.71886088 117.92424971 497.90238766 524.10777648 104.8215553\n",
      " 183.43772177 141.50909965 393.08083236 314.46466589 288.25927706]\n"
     ]
    }
   ],
   "source": [
    "zp_x = np.array([35, 45, 190, 200, 40, 70, 54, 150, 120, 110])\n",
    "ks_y = np.array([401, 574, 874, 919, 459, 739, 653, 902, 746, 832])\n",
    "num = 8\n",
    "b = (np.mean(zp_x * ks_y) - np.mean(zp_x) * np.mean(ks_y)) / (np.mean(zp_x**2)-np.mean(zp_x)**2)\n",
    "print(f'{b}')\n",
    "y = b * zp_x\n",
    "print(f'{y}')"
   ]
  },
  {
   "cell_type": "code",
   "execution_count": 27,
   "metadata": {},
   "outputs": [
    {
     "data": {
      "image/png": "[encoded data removed]",
      "text/plain": [
       "<Figure size 432x288 with 1 Axes>"
      ]
     },
     "metadata": {
      "needs_background": "light"
     },
     "output_type": "display_data"
    }
   ],
   "source": [
    "plt.scatter(zp_x, ks_y)\n",
    "plt.plot(zp_x, y)\n",
    "plt.show()"
   ]
  },
  {
   "cell_type": "markdown",
   "metadata": {},
   "source": [
    "2.Посчитать коэффициент линейной регрессии при заработной плате (zp), используя градиентный спуск (без intercept).\n"
   ]
  },
  {
   "cell_type": "code",
   "execution_count": 53,
   "metadata": {},
   "outputs": [
    {
     "name": "stdout",
     "output_type": "stream",
     "text": [
      "2.620538882402765\n",
      "[ 91.71886088 117.92424971 497.90238766 524.10777648 104.8215553\n",
      " 183.43772177 141.50909965 393.08083236 314.46466589 288.25927706]\n",
      "Iteration: 0 z1=0.2994101, mse=608840.7921023312\n",
      "Iteration: 10 z1=1.9522385309535615, mse=337646.0719603328\n",
      "Iteration: 20 z1=3.116401253000165, mse=203105.56566541974\n",
      "Iteration: 30 z1=3.936374347618984, mse=136359.62081585286\n",
      "Iteration: 40 z1=4.513918932380086, mse=103246.75929520423\n",
      "Iteration: 50 z1=4.920710020497358, mse=86819.3703271271\n",
      "Iteration: 60 z1=5.207231604696927, mse=78669.69385956415\n",
      "Iteration: 70 z1=5.40904187195766, mse=74626.6151539332\n",
      "Iteration: 80 z1=5.5511860810427285, mse=72620.83179738057\n",
      "Iteration: 90 z1=5.651304754144307, mse=71625.75671565623\n",
      "Iteration: 100 z1=5.72182291853623, mse=71132.09701156412\n",
      "Iteration: 110 z1=5.771492089682365, mse=70887.19096585951\n",
      "Iteration: 120 z1=5.806476360524031, mse=70765.69234904819\n",
      "Iteration: 130 z1=5.831117383880794, mse=70705.41652431471\n",
      "Iteration: 140 z1=5.848473184572383, mse=70675.51350860429\n",
      "Iteration: 150 z1=5.860697669460245, mse=70660.6785336781\n",
      "Iteration: 160 z1=5.8693079337418546, mse=70653.31885854725\n",
      "Iteration: 170 z1=5.875372537009744, mse=70649.66770185163\n",
      "Iteration: 180 z1=5.879644114698183, mse=70647.85635216848\n",
      "Iteration: 190 z1=5.882652782395373, mse=70646.95773620976\n"
     ]
    }
   ],
   "source": [
    "zp_x = np.array([35, 45, 190, 200, 40, 70, 54, 150, 120, 110])\n",
    "ks_y = np.array([401, 574, 874, 919, 459, 739, 653, 902, 746, 832])\n",
    "num = 8\n",
    "b = (np.mean(zp_x * ks_y) - np.mean(zp_x) * np.mean(ks_y)) / (np.mean(zp_x**2)-np.mean(zp_x)**2)\n",
    "print(f'{b}')\n",
    "y = b * zp_x\n",
    "print(f'{y}')\n",
    "alpha = 1e-6\n",
    "z1 = 0.1\n",
    "def mse_(z1,num = num, ks_y = ks_y, zp_x= zp_x):\n",
    "    return np.sum((z1*zp_x-ks_y)**2)/num\n",
    "\n",
    "\n",
    "for i in range(200):\n",
    "    z1 -= alpha*(2/num)*np.sum((z1*zp_x-ks_y)*zp_x)\n",
    "    if i%10 ==0:\n",
    "        print(f'Iteration: {i} z1={z1}, mse={mse_(z1)}')\n",
    "        "
   ]
  },
  {
   "cell_type": "markdown",
   "metadata": {},
   "source": [
    "3. В каких случаях для вычисления доверительных интервалов и проверки статистических гипотез используется таблица значений функции Лапласа, а в каких - таблица критических точек распределения Стьюдента? *4. Произвести вычисления как в пункте 2, но с вычислением intercept. Учесть, что изменение коэффициентов должно производиться на каждом шаге одновременно (то есть изменение одного коэффициента не должно влиять на изменение другого во время одной итерации).\n"
   ]
  },
  {
   "cell_type": "markdown",
   "metadata": {},
   "source": [
    "При известных дисперсиях вычисление доверительных интервалов осуществляется при помощи функции Лапласа. При неизвестных дисперсиях и ненормальном распределении, используется распределение Стьюдента\n",
    "\n"
   ]
  },
  {
   "cell_type": "code",
   "execution_count": null,
   "metadata": {},
   "outputs": [],
   "source": []
  }
 ],
 "metadata": {
  "kernelspec": {
   "display_name": "Python 3",
   "language": "python",
   "name": "python3"
  },
  "language_info": {
   "codemirror_mode": {
    "name": "ipython",
    "version": 3
   },
   "file_extension": ".py",
   "mimetype": "text/x-python",
   "name": "python",
   "nbconvert_exporter": "python",
   "pygments_lexer": "ipython3",
   "version": "3.8.3"
  }
 },
 "nbformat": 4,
 "nbformat_minor": 4
}
