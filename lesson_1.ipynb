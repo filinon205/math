{
 "cells": [
  {
   "cell_type": "code",
   "execution_count": 7,
   "metadata": {},
   "outputs": [],
   "source": [
    "import numpy as np\n",
    "import pandas as pd\n",
    "from math import factorial"
   ]
  },
  {
   "cell_type": "markdown",
   "metadata": {},
   "source": [
    "### Задание 1 (a)\n",
    "\n",
    "Из колоды в 52 карты извлекаются случайным образом 4 карты. a) Найти вероятность того, что все карты – крести. б) Найти вероятность, что среди 4-х карт окажется хотя бы один туз."
   ]
  },
  {
   "cell_type": "code",
   "execution_count": 16,
   "metadata": {},
   "outputs": [
    {
     "name": "stdout",
     "output_type": "stream",
     "text": [
      "1 туз + 3 карты: 4.0\n",
      "2 туза + 2 карты: 6.0\n",
      "3 туза + 1 карта 4.0\n",
      "4 туза + 0 карт: 1.0\n"
     ]
    }
   ],
   "source": [
    "# 1 туз + 4 карты\n",
    "С_1_3 = mth.factorial(4)/(mth.factorial(1)* mth.factorial((4-1)))\n",
    "print(f\"1 туз + 3 карты: {С_1_3}\")\n",
    "# 2 туза + 2 карты\n",
    "С_2_2 = mth.factorial(4)/(mth.factorial(2)* mth.factorial((4-2)))\n",
    "print(f\"2 туза + 2 карты: {С_2_2}\")\n",
    "# 3 туза + 1 карта\n",
    "С_3_1 = mth.factorial(4)/(mth.factorial(3)* mth.factorial((4-3)))\n",
    "print(f\"3 туза + 1 карта {С_3_1}\")\n",
    "# 4 туза + 0 карт\n",
    "С_4_0 = mth.factorial(4)/(mth.factorial(4)* mth.factorial((4-4)))\n",
    "print(f\"4 туза + 0 карт: {С_4_0}\")"
   ]
  },
  {
   "cell_type": "code",
   "execution_count": 28,
   "metadata": {},
   "outputs": [
    {
     "name": "stdout",
     "output_type": "stream",
     "text": [
      "0 карт из 48 не тузы: 1.0\n",
      "3 карты из 48 не тузы: 17296.0\n",
      "2 карты из 48 не тузы: 1128.0\n",
      "1 карта из 48 не тузы: 48.0\n"
     ]
    }
   ],
   "source": [
    "# 0 карт из 48 не тузы\n",
    "С_0_48 = mth.factorial(48)/(mth.factorial(0)* mth.factorial((48-0)))\n",
    "print(f\"0 карт из 48 не тузы: {С_0_48}\")\n",
    "# 3 карты из 48 не тузы\n",
    "С_3_48 = mth.factorial(48)/(mth.factorial(3)* mth.factorial((48-3)))\n",
    "print(f\"3 карты из 48 не тузы: {С_3_48}\")\n",
    "# 2 карты из 48 не тузы\n",
    "С_2_48 = mth.factorial(48)/(mth.factorial(2)* mth.factorial((48-2)))\n",
    "print(f\"2 карты из 48 не тузы: {С_2_48}\")\n",
    "# 1 карта из 48 не тузы\n",
    "С_1_48 = mth.factorial(48)/(mth.factorial(1)* mth.factorial((48-1)))\n",
    "print(f\"1 карта из 48 не тузы: {С_1_48}\")"
   ]
  },
  {
   "cell_type": "code",
   "execution_count": 38,
   "metadata": {},
   "outputs": [
    {
     "name": "stdout",
     "output_type": "stream",
     "text": [
      "1 туз: 69184.0\n",
      "2 туза: 6768.0\n",
      "3 туза: 192.0\n",
      "4 туза: 1.0\n"
     ]
    }
   ],
   "source": [
    "# 1 туз\n",
    "tyz_1 = С_1_3 * С_3_48\n",
    "print(f\"1 туз: {tyz_1}\")\n",
    "\n",
    "# 2 туза\n",
    "tyz_2 = С_2_2 * С_2_48\n",
    "print(f\"2 туза: {tyz_2}\")\n",
    "\n",
    "# 3 туза\n",
    "tyz_3 = С_3_1 * С_1_48\n",
    "print(f\"3 туза: {tyz_3}\")\n",
    "\n",
    "# 4 туза\n",
    "tyz_4 = С_4_0 * С_0_48\n",
    "print(f\"4 туза: {tyz_4}\")"
   ]
  },
  {
   "cell_type": "code",
   "execution_count": 36,
   "metadata": {},
   "outputs": [
    {
     "name": "stdout",
     "output_type": "stream",
     "text": [
      "Общая вероятность abs: 270725.0\n",
      "Общая вероятность %: 28.13\n"
     ]
    }
   ],
   "source": [
    "#Общая вероятность 4 /52\n",
    "constA = mth.factorial(52)/(mth.factorial(4)* mth.factorial((52-4)))\n",
    "print(f\"Общая вероятность abs: {constA}\")\n",
    "ver = (tyz_1 + tyz_2 + tyz_3 + tyz_4) / constA * 100\n",
    "print(f\"Общая вероятность %: {round(ver,2)}%\")"
   ]
  },
  {
   "cell_type": "markdown",
   "metadata": {},
   "source": [
    "### Задание 1 (б)"
   ]
  },
  {
   "cell_type": "code",
   "execution_count": 40,
   "metadata": {},
   "outputs": [
    {
     "name": "stdout",
     "output_type": "stream",
     "text": [
      "Вероятность вытащить 4 крести из крестей: 715.0\n"
     ]
    }
   ],
   "source": [
    "#Вероятность вытащить 4 крести из крестей\n",
    "kr_4 =  mth.factorial(13)/(mth.factorial(4)* mth.factorial((13-4)))\n",
    "print(f\"Вероятность вытащить 4 крести из крестей: {kr_4}\")"
   ]
  },
  {
   "cell_type": "code",
   "execution_count": 44,
   "metadata": {},
   "outputs": [
    {
     "name": "stdout",
     "output_type": "stream",
     "text": [
      "Общая вероятность abs : 270725.0\n",
      "Общая вероятность %: 0.26%\n"
     ]
    }
   ],
   "source": [
    "# Общая вероятность abs:\n",
    "ver =  mth.factorial(52)/(mth.factorial(4)* mth.factorial((52-4)))\n",
    "print(f\"Общая вероятность abs : {round(ver,2)}\")\n",
    "\n",
    "ver = kr_4 / ver * 100\n",
    "print(f\"Общая вероятность %: {round(ver,2)}%\")"
   ]
  },
  {
   "cell_type": "markdown",
   "metadata": {},
   "source": [
    "### Задание 2\n",
    "\n",
    "На входной двери подъезда установлен кодовый замок, содержащий десять кнопок с цифрами от 0 до 9. Код содержит три цифры, которые нужно нажать одновременно. Какова вероятность того, что человек, не знающий код, откроет дверь с первой попытки?"
   ]
  },
  {
   "cell_type": "code",
   "execution_count": 54,
   "metadata": {},
   "outputs": [
    {
     "name": "stdout",
     "output_type": "stream",
     "text": [
      "Вероятность открытия с первой попытки: 0.139%\n"
     ]
    }
   ],
   "source": [
    "A_P = 1 / (factorial(10)/factorial((10-3))) * 100\n",
    "print(f\"Вероятность открытия с первой попытки: {round(A_P ,3)}%\")"
   ]
  },
  {
   "cell_type": "markdown",
   "metadata": {},
   "source": [
    "### Задание 3\n",
    "\n",
    "В ящике имеется 15 деталей, из которых 9 окрашены. Рабочий случайным образом извлекает 3 детали. Какова вероятность того, что все извлеченные детали окрашены?"
   ]
  },
  {
   "cell_type": "code",
   "execution_count": 58,
   "metadata": {},
   "outputs": [
    {
     "name": "stdout",
     "output_type": "stream",
     "text": [
      "3 из 9 окрашены: 84.0\n",
      "3 из 15 окрашены: 455.0\n",
      "Общая вероятность %: 18.46%\n"
     ]
    }
   ],
   "source": [
    "# 3 из 9 окрашены\n",
    "det_3_9 =  factorial(9)/(factorial(3)* factorial((9-3))) \n",
    "print(f\"3 из 9 окрашены: {det_3_9}\")\n",
    "\n",
    "# 3 из 15 окрашены\n",
    "det_3_15 =  factorial(15)/(factorial(3)* factorial((15-3))) \n",
    "print(f\"3 из 15 окрашены: {det_3_15}\")\n",
    "\n",
    "#Общая вероятность \n",
    "ver = det_3_9 / det_3_15 * 100\n",
    "print(f\"Общая вероятность %: {round(ver,2)}%\")"
   ]
  },
  {
   "cell_type": "markdown",
   "metadata": {},
   "source": [
    "### Задание 4\n",
    "В лотерее 100 билетов. Из них 2 выигрышных. Какова вероятность того, что 2 приобретенных билета окажутся выигрышными?\n"
   ]
  },
  {
   "cell_type": "code",
   "execution_count": 60,
   "metadata": {},
   "outputs": [
    {
     "name": "stdout",
     "output_type": "stream",
     "text": [
      "2 из 2: 1.0\n",
      "Общая вероятность %: 0.02%\n"
     ]
    }
   ],
   "source": [
    "#  2 из 2\n",
    "tik_2_2 = factorial(2)/(factorial(2)* factorial((2-2))) \n",
    "print(f\"2 из 2: {tik_2_2}\")\n",
    "# 2 из 100\n",
    "tik_2_100 = factorial(100)/(factorial(2)* factorial((100-2))) \n",
    "# вероянтность что 2 билета выигрышные\n",
    "ver = tik_2_2 / tik_2_100 * 100\n",
    "print(f\"Общая вероятность %: {round(ver,2)}%\")"
   ]
  },
  {
   "cell_type": "code",
   "execution_count": null,
   "metadata": {},
   "outputs": [],
   "source": []
  }
 ],
 "metadata": {
  "kernelspec": {
   "display_name": "Python 3",
   "language": "python",
   "name": "python3"
  },
  "language_info": {
   "codemirror_mode": {
    "name": "ipython",
    "version": 3
   },
   "file_extension": ".py",
   "mimetype": "text/x-python",
   "name": "python",
   "nbconvert_exporter": "python",
   "pygments_lexer": "ipython3",
   "version": "3.8.3"
  }
 },
 "nbformat": 4,
 "nbformat_minor": 4
}
